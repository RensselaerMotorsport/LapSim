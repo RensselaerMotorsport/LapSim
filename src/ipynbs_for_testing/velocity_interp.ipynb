{
 "cells": [
  {
   "cell_type": "code",
   "execution_count": 1,
   "metadata": {
    "collapsed": true,
    "pycharm": {
     "name": "#%%\n"
    }
   },
   "outputs": [],
   "source": [
    "import pandas as pd\n",
    "import numpy as np"
   ]
  },
  {
   "cell_type": "code",
   "execution_count": 3,
   "outputs": [],
   "source": [
    "torque = pd.read_csv(\"../data/torque_for_each_gear.csv\")"
   ],
   "metadata": {
    "collapsed": false,
    "pycharm": {
     "name": "#%%\n"
    }
   }
  },
  {
   "cell_type": "code",
   "execution_count": 9,
   "outputs": [
    {
     "data": {
      "text/plain": "          T         1st         2nd         3rd         4th\n0    33.187  548.362650  398.809200  332.407468  287.142624\n1    33.645  555.930375  404.313000  336.994886  291.105360\n2    34.556  570.983209  415.260515  346.119640  298.987571\n3    37.118  613.316204  446.048148  371.781131  321.154667\n4    39.497  652.625413  474.636664  395.609660  341.738398\n..      ...         ...         ...         ...         ...\n105  33.414  552.113466  401.537066  334.681145  289.106688\n106  32.795  541.885471  394.098524  328.481120  283.750937\n107  31.958  528.055370  384.040269  320.097564  276.508994\n108  31.175  515.117535  374.630934  312.254884  269.734273\n109  30.322  501.023060  364.380407  303.711069  262.353893\n\n[110 rows x 5 columns]",
      "text/html": "<div>\n<style scoped>\n    .dataframe tbody tr th:only-of-type {\n        vertical-align: middle;\n    }\n\n    .dataframe tbody tr th {\n        vertical-align: top;\n    }\n\n    .dataframe thead th {\n        text-align: right;\n    }\n</style>\n<table border=\"1\" class=\"dataframe\">\n  <thead>\n    <tr style=\"text-align: right;\">\n      <th></th>\n      <th>T</th>\n      <th>1st</th>\n      <th>2nd</th>\n      <th>3rd</th>\n      <th>4th</th>\n    </tr>\n  </thead>\n  <tbody>\n    <tr>\n      <th>0</th>\n      <td>33.187</td>\n      <td>548.362650</td>\n      <td>398.809200</td>\n      <td>332.407468</td>\n      <td>287.142624</td>\n    </tr>\n    <tr>\n      <th>1</th>\n      <td>33.645</td>\n      <td>555.930375</td>\n      <td>404.313000</td>\n      <td>336.994886</td>\n      <td>291.105360</td>\n    </tr>\n    <tr>\n      <th>2</th>\n      <td>34.556</td>\n      <td>570.983209</td>\n      <td>415.260515</td>\n      <td>346.119640</td>\n      <td>298.987571</td>\n    </tr>\n    <tr>\n      <th>3</th>\n      <td>37.118</td>\n      <td>613.316204</td>\n      <td>446.048148</td>\n      <td>371.781131</td>\n      <td>321.154667</td>\n    </tr>\n    <tr>\n      <th>4</th>\n      <td>39.497</td>\n      <td>652.625413</td>\n      <td>474.636664</td>\n      <td>395.609660</td>\n      <td>341.738398</td>\n    </tr>\n    <tr>\n      <th>...</th>\n      <td>...</td>\n      <td>...</td>\n      <td>...</td>\n      <td>...</td>\n      <td>...</td>\n    </tr>\n    <tr>\n      <th>105</th>\n      <td>33.414</td>\n      <td>552.113466</td>\n      <td>401.537066</td>\n      <td>334.681145</td>\n      <td>289.106688</td>\n    </tr>\n    <tr>\n      <th>106</th>\n      <td>32.795</td>\n      <td>541.885471</td>\n      <td>394.098524</td>\n      <td>328.481120</td>\n      <td>283.750937</td>\n    </tr>\n    <tr>\n      <th>107</th>\n      <td>31.958</td>\n      <td>528.055370</td>\n      <td>384.040269</td>\n      <td>320.097564</td>\n      <td>276.508994</td>\n    </tr>\n    <tr>\n      <th>108</th>\n      <td>31.175</td>\n      <td>515.117535</td>\n      <td>374.630934</td>\n      <td>312.254884</td>\n      <td>269.734273</td>\n    </tr>\n    <tr>\n      <th>109</th>\n      <td>30.322</td>\n      <td>501.023060</td>\n      <td>364.380407</td>\n      <td>303.711069</td>\n      <td>262.353893</td>\n    </tr>\n  </tbody>\n</table>\n<p>110 rows × 5 columns</p>\n</div>"
     },
     "execution_count": 9,
     "metadata": {},
     "output_type": "execute_result"
    }
   ],
   "source": [
    "torque"
   ],
   "metadata": {
    "collapsed": false,
    "pycharm": {
     "name": "#%%\n"
    }
   }
  },
  {
   "cell_type": "code",
   "execution_count": 5,
   "outputs": [],
   "source": [
    "rpm_v_road_speed = pd.read_csv(\"../data/rpm_vs_road_speed.csv\")"
   ],
   "metadata": {
    "collapsed": false,
    "pycharm": {
     "name": "#%%\n"
    }
   }
  },
  {
   "cell_type": "code",
   "execution_count": 10,
   "outputs": [
    {
     "data": {
      "text/plain": "       RPM        1st        2nd        3rd        4th\n0     4100   5.277352   7.256359   8.705890  10.078277\n1     4200   5.406068   7.433344   8.918229  10.324088\n2     4300   5.534784   7.610328   9.130568  10.569900\n3     4400   5.663500   7.787312   9.342906  10.815712\n4     4500   5.792216   7.964297   9.555245  11.061523\n..     ...        ...        ...        ...        ...\n105  14600  18.792523  25.839719  31.001462  35.888498\n106  14700  18.921239  26.016703  31.213801  36.134310\n107  14800  19.049954  26.193687  31.426140  36.380121\n108  14900  19.178670  26.370672  31.638478  36.625933\n109  15000  19.307386  26.547656  31.850817  36.871745\n\n[110 rows x 5 columns]",
      "text/html": "<div>\n<style scoped>\n    .dataframe tbody tr th:only-of-type {\n        vertical-align: middle;\n    }\n\n    .dataframe tbody tr th {\n        vertical-align: top;\n    }\n\n    .dataframe thead th {\n        text-align: right;\n    }\n</style>\n<table border=\"1\" class=\"dataframe\">\n  <thead>\n    <tr style=\"text-align: right;\">\n      <th></th>\n      <th>RPM</th>\n      <th>1st</th>\n      <th>2nd</th>\n      <th>3rd</th>\n      <th>4th</th>\n    </tr>\n  </thead>\n  <tbody>\n    <tr>\n      <th>0</th>\n      <td>4100</td>\n      <td>5.277352</td>\n      <td>7.256359</td>\n      <td>8.705890</td>\n      <td>10.078277</td>\n    </tr>\n    <tr>\n      <th>1</th>\n      <td>4200</td>\n      <td>5.406068</td>\n      <td>7.433344</td>\n      <td>8.918229</td>\n      <td>10.324088</td>\n    </tr>\n    <tr>\n      <th>2</th>\n      <td>4300</td>\n      <td>5.534784</td>\n      <td>7.610328</td>\n      <td>9.130568</td>\n      <td>10.569900</td>\n    </tr>\n    <tr>\n      <th>3</th>\n      <td>4400</td>\n      <td>5.663500</td>\n      <td>7.787312</td>\n      <td>9.342906</td>\n      <td>10.815712</td>\n    </tr>\n    <tr>\n      <th>4</th>\n      <td>4500</td>\n      <td>5.792216</td>\n      <td>7.964297</td>\n      <td>9.555245</td>\n      <td>11.061523</td>\n    </tr>\n    <tr>\n      <th>...</th>\n      <td>...</td>\n      <td>...</td>\n      <td>...</td>\n      <td>...</td>\n      <td>...</td>\n    </tr>\n    <tr>\n      <th>105</th>\n      <td>14600</td>\n      <td>18.792523</td>\n      <td>25.839719</td>\n      <td>31.001462</td>\n      <td>35.888498</td>\n    </tr>\n    <tr>\n      <th>106</th>\n      <td>14700</td>\n      <td>18.921239</td>\n      <td>26.016703</td>\n      <td>31.213801</td>\n      <td>36.134310</td>\n    </tr>\n    <tr>\n      <th>107</th>\n      <td>14800</td>\n      <td>19.049954</td>\n      <td>26.193687</td>\n      <td>31.426140</td>\n      <td>36.380121</td>\n    </tr>\n    <tr>\n      <th>108</th>\n      <td>14900</td>\n      <td>19.178670</td>\n      <td>26.370672</td>\n      <td>31.638478</td>\n      <td>36.625933</td>\n    </tr>\n    <tr>\n      <th>109</th>\n      <td>15000</td>\n      <td>19.307386</td>\n      <td>26.547656</td>\n      <td>31.850817</td>\n      <td>36.871745</td>\n    </tr>\n  </tbody>\n</table>\n<p>110 rows × 5 columns</p>\n</div>"
     },
     "execution_count": 10,
     "metadata": {},
     "output_type": "execute_result"
    }
   ],
   "source": [
    "rpm_v_road_speed"
   ],
   "metadata": {
    "collapsed": false,
    "pycharm": {
     "name": "#%%\n"
    }
   }
  },
  {
   "cell_type": "code",
   "execution_count": 15,
   "outputs": [],
   "source": [
    "def find_torque_given_velocity(velocity: float, gear: str = \"1st\", torque=torque, rpm_v_road_speed=rpm_v_road_speed):\n",
    "    for idx, row in rpm_v_road_speed.iterrows():\n",
    "        print(idx, row[gear])"
   ],
   "metadata": {
    "collapsed": false,
    "pycharm": {
     "name": "#%%\n"
    }
   }
  },
  {
   "cell_type": "code",
   "execution_count": 16,
   "outputs": [
    {
     "name": "stdout",
     "output_type": "stream",
     "text": [
      "0 5.27735224\n",
      "1 5.406068148\n",
      "2 5.534784056\n",
      "3 5.663499964\n",
      "4 5.792215873\n",
      "5 5.920931781\n",
      "6 6.049647689\n",
      "7 6.178363597\n",
      "8 6.307079506\n",
      "9 6.435795414\n",
      "10 6.564511322\n",
      "11 6.693227231\n",
      "12 6.821943139\n",
      "13 6.950659047\n",
      "14 7.079374955\n",
      "15 7.208090864\n",
      "16 7.336806772\n",
      "17 7.46552268\n",
      "18 7.594238589\n",
      "19 7.722954497\n",
      "20 7.851670405\n",
      "21 7.980386313\n",
      "22 8.109102222\n",
      "23 8.23781813\n",
      "24 8.366534038\n",
      "25 8.495249947\n",
      "26 8.623965855\n",
      "27 8.752681763\n",
      "28 8.881397671\n",
      "29 9.01011358\n",
      "30 9.138829488\n",
      "31 9.267545396\n",
      "32 9.396261305\n",
      "33 9.524977213\n",
      "34 9.653693121\n",
      "35 9.782409029\n",
      "36 9.911124938\n",
      "37 10.03984085\n",
      "38 10.16855675\n",
      "39 10.29727266\n",
      "40 10.42598857\n",
      "41 10.55470448\n",
      "42 10.68342039\n",
      "43 10.8121363\n",
      "44 10.9408522\n",
      "45 11.06956811\n",
      "46 11.19828402\n",
      "47 11.32699993\n",
      "48 11.45571584\n",
      "49 11.58443175\n",
      "50 11.71314765\n",
      "51 11.84186356\n",
      "52 11.97057947\n",
      "53 12.09929538\n",
      "54 12.22801129\n",
      "55 12.35672719\n",
      "56 12.4854431\n",
      "57 12.61415901\n",
      "58 12.74287492\n",
      "59 12.87159083\n",
      "60 13.00030674\n",
      "61 13.12902264\n",
      "62 13.25773855\n",
      "63 13.38645446\n",
      "64 13.51517037\n",
      "65 13.64388628\n",
      "66 13.77260219\n",
      "67 13.90131809\n",
      "68 14.030034\n",
      "69 14.15874991\n",
      "70 14.28746582\n",
      "71 14.41618173\n",
      "72 14.54489764\n",
      "73 14.67361354\n",
      "74 14.80232945\n",
      "75 14.93104536\n",
      "76 15.05976127\n",
      "77 15.18847718\n",
      "78 15.31719309\n",
      "79 15.44590899\n",
      "80 15.5746249\n",
      "81 15.70334081\n",
      "82 15.83205672\n",
      "83 15.96077263\n",
      "84 16.08948854\n",
      "85 16.21820444\n",
      "86 16.34692035\n",
      "87 16.47563626\n",
      "88 16.60435217\n",
      "89 16.73306808\n",
      "90 16.86178398\n",
      "91 16.99049989\n",
      "92 17.1192158\n",
      "93 17.24793171\n",
      "94 17.37664762\n",
      "95 17.50536353\n",
      "96 17.63407943\n",
      "97 17.76279534\n",
      "98 17.89151125\n",
      "99 18.02022716\n",
      "100 18.14894307\n",
      "101 18.27765898\n",
      "102 18.40637488\n",
      "103 18.53509079\n",
      "104 18.6638067\n",
      "105 18.79252261\n",
      "106 18.92123852\n",
      "107 19.04995443\n",
      "108 19.17867033\n",
      "109 19.30738624\n"
     ]
    }
   ],
   "source": [
    "find_torque_given_velocity(1)"
   ],
   "metadata": {
    "collapsed": false,
    "pycharm": {
     "name": "#%%\n"
    }
   }
  },
  {
   "cell_type": "code",
   "execution_count": null,
   "outputs": [],
   "source": [],
   "metadata": {
    "collapsed": false,
    "pycharm": {
     "name": "#%%\n"
    }
   }
  }
 ],
 "metadata": {
  "kernelspec": {
   "display_name": "Python 3",
   "language": "python",
   "name": "python3"
  },
  "language_info": {
   "codemirror_mode": {
    "name": "ipython",
    "version": 2
   },
   "file_extension": ".py",
   "mimetype": "text/x-python",
   "name": "python",
   "nbconvert_exporter": "python",
   "pygments_lexer": "ipython2",
   "version": "2.7.6"
  }
 },
 "nbformat": 4,
 "nbformat_minor": 0
}