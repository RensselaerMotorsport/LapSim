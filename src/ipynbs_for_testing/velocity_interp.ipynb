{
 "cells": [
  {
   "cell_type": "code",
   "execution_count": 1,
   "metadata": {
    "collapsed": true,
    "pycharm": {
     "name": "#%%\n"
    }
   },
   "outputs": [],
   "source": [
    "import pandas as pd\n",
    "import numpy as np"
   ]
  },
  {
   "cell_type": "code",
   "execution_count": 2,
   "outputs": [],
   "source": [
    "wheel_torque = pd.read_csv(\"../data/torque_for_each_gear.csv\")"
   ],
   "metadata": {
    "collapsed": false,
    "pycharm": {
     "name": "#%%\n"
    }
   }
  },
  {
   "cell_type": "code",
   "execution_count": 3,
   "outputs": [
    {
     "data": {
      "text/plain": "          T         1st         2nd         3rd         4th\n0    33.187  548.362650  398.809200  332.407468  287.142624\n1    33.645  555.930375  404.313000  336.994886  291.105360\n2    34.556  570.983209  415.260515  346.119640  298.987571\n3    37.118  613.316204  446.048148  371.781131  321.154667\n4    39.497  652.625413  474.636664  395.609660  341.738398\n..      ...         ...         ...         ...         ...\n105  33.414  552.113466  401.537066  334.681145  289.106688\n106  32.795  541.885471  394.098524  328.481120  283.750937\n107  31.958  528.055370  384.040269  320.097564  276.508994\n108  31.175  515.117535  374.630934  312.254884  269.734273\n109  30.322  501.023060  364.380407  303.711069  262.353893\n\n[110 rows x 5 columns]",
      "text/html": "<div>\n<style scoped>\n    .dataframe tbody tr th:only-of-type {\n        vertical-align: middle;\n    }\n\n    .dataframe tbody tr th {\n        vertical-align: top;\n    }\n\n    .dataframe thead th {\n        text-align: right;\n    }\n</style>\n<table border=\"1\" class=\"dataframe\">\n  <thead>\n    <tr style=\"text-align: right;\">\n      <th></th>\n      <th>T</th>\n      <th>1st</th>\n      <th>2nd</th>\n      <th>3rd</th>\n      <th>4th</th>\n    </tr>\n  </thead>\n  <tbody>\n    <tr>\n      <th>0</th>\n      <td>33.187</td>\n      <td>548.362650</td>\n      <td>398.809200</td>\n      <td>332.407468</td>\n      <td>287.142624</td>\n    </tr>\n    <tr>\n      <th>1</th>\n      <td>33.645</td>\n      <td>555.930375</td>\n      <td>404.313000</td>\n      <td>336.994886</td>\n      <td>291.105360</td>\n    </tr>\n    <tr>\n      <th>2</th>\n      <td>34.556</td>\n      <td>570.983209</td>\n      <td>415.260515</td>\n      <td>346.119640</td>\n      <td>298.987571</td>\n    </tr>\n    <tr>\n      <th>3</th>\n      <td>37.118</td>\n      <td>613.316204</td>\n      <td>446.048148</td>\n      <td>371.781131</td>\n      <td>321.154667</td>\n    </tr>\n    <tr>\n      <th>4</th>\n      <td>39.497</td>\n      <td>652.625413</td>\n      <td>474.636664</td>\n      <td>395.609660</td>\n      <td>341.738398</td>\n    </tr>\n    <tr>\n      <th>...</th>\n      <td>...</td>\n      <td>...</td>\n      <td>...</td>\n      <td>...</td>\n      <td>...</td>\n    </tr>\n    <tr>\n      <th>105</th>\n      <td>33.414</td>\n      <td>552.113466</td>\n      <td>401.537066</td>\n      <td>334.681145</td>\n      <td>289.106688</td>\n    </tr>\n    <tr>\n      <th>106</th>\n      <td>32.795</td>\n      <td>541.885471</td>\n      <td>394.098524</td>\n      <td>328.481120</td>\n      <td>283.750937</td>\n    </tr>\n    <tr>\n      <th>107</th>\n      <td>31.958</td>\n      <td>528.055370</td>\n      <td>384.040269</td>\n      <td>320.097564</td>\n      <td>276.508994</td>\n    </tr>\n    <tr>\n      <th>108</th>\n      <td>31.175</td>\n      <td>515.117535</td>\n      <td>374.630934</td>\n      <td>312.254884</td>\n      <td>269.734273</td>\n    </tr>\n    <tr>\n      <th>109</th>\n      <td>30.322</td>\n      <td>501.023060</td>\n      <td>364.380407</td>\n      <td>303.711069</td>\n      <td>262.353893</td>\n    </tr>\n  </tbody>\n</table>\n<p>110 rows × 5 columns</p>\n</div>"
     },
     "execution_count": 3,
     "metadata": {},
     "output_type": "execute_result"
    }
   ],
   "source": [
    "wheel_torque"
   ],
   "metadata": {
    "collapsed": false,
    "pycharm": {
     "name": "#%%\n"
    }
   }
  },
  {
   "cell_type": "code",
   "execution_count": 4,
   "outputs": [],
   "source": [
    "rpm_v_road_speed = pd.read_csv(\"../data/rpm_vs_road_speed.csv\")"
   ],
   "metadata": {
    "collapsed": false,
    "pycharm": {
     "name": "#%%\n"
    }
   }
  },
  {
   "cell_type": "code",
   "execution_count": 5,
   "outputs": [
    {
     "data": {
      "text/plain": "       RPM        1st        2nd        3rd        4th\n0     4100   5.277352   7.256359   8.705890  10.078277\n1     4200   5.406068   7.433344   8.918229  10.324088\n2     4300   5.534784   7.610328   9.130568  10.569900\n3     4400   5.663500   7.787312   9.342906  10.815712\n4     4500   5.792216   7.964297   9.555245  11.061523\n..     ...        ...        ...        ...        ...\n105  14600  18.792523  25.839719  31.001462  35.888498\n106  14700  18.921239  26.016703  31.213801  36.134310\n107  14800  19.049954  26.193687  31.426140  36.380121\n108  14900  19.178670  26.370672  31.638478  36.625933\n109  15000  19.307386  26.547656  31.850817  36.871745\n\n[110 rows x 5 columns]",
      "text/html": "<div>\n<style scoped>\n    .dataframe tbody tr th:only-of-type {\n        vertical-align: middle;\n    }\n\n    .dataframe tbody tr th {\n        vertical-align: top;\n    }\n\n    .dataframe thead th {\n        text-align: right;\n    }\n</style>\n<table border=\"1\" class=\"dataframe\">\n  <thead>\n    <tr style=\"text-align: right;\">\n      <th></th>\n      <th>RPM</th>\n      <th>1st</th>\n      <th>2nd</th>\n      <th>3rd</th>\n      <th>4th</th>\n    </tr>\n  </thead>\n  <tbody>\n    <tr>\n      <th>0</th>\n      <td>4100</td>\n      <td>5.277352</td>\n      <td>7.256359</td>\n      <td>8.705890</td>\n      <td>10.078277</td>\n    </tr>\n    <tr>\n      <th>1</th>\n      <td>4200</td>\n      <td>5.406068</td>\n      <td>7.433344</td>\n      <td>8.918229</td>\n      <td>10.324088</td>\n    </tr>\n    <tr>\n      <th>2</th>\n      <td>4300</td>\n      <td>5.534784</td>\n      <td>7.610328</td>\n      <td>9.130568</td>\n      <td>10.569900</td>\n    </tr>\n    <tr>\n      <th>3</th>\n      <td>4400</td>\n      <td>5.663500</td>\n      <td>7.787312</td>\n      <td>9.342906</td>\n      <td>10.815712</td>\n    </tr>\n    <tr>\n      <th>4</th>\n      <td>4500</td>\n      <td>5.792216</td>\n      <td>7.964297</td>\n      <td>9.555245</td>\n      <td>11.061523</td>\n    </tr>\n    <tr>\n      <th>...</th>\n      <td>...</td>\n      <td>...</td>\n      <td>...</td>\n      <td>...</td>\n      <td>...</td>\n    </tr>\n    <tr>\n      <th>105</th>\n      <td>14600</td>\n      <td>18.792523</td>\n      <td>25.839719</td>\n      <td>31.001462</td>\n      <td>35.888498</td>\n    </tr>\n    <tr>\n      <th>106</th>\n      <td>14700</td>\n      <td>18.921239</td>\n      <td>26.016703</td>\n      <td>31.213801</td>\n      <td>36.134310</td>\n    </tr>\n    <tr>\n      <th>107</th>\n      <td>14800</td>\n      <td>19.049954</td>\n      <td>26.193687</td>\n      <td>31.426140</td>\n      <td>36.380121</td>\n    </tr>\n    <tr>\n      <th>108</th>\n      <td>14900</td>\n      <td>19.178670</td>\n      <td>26.370672</td>\n      <td>31.638478</td>\n      <td>36.625933</td>\n    </tr>\n    <tr>\n      <th>109</th>\n      <td>15000</td>\n      <td>19.307386</td>\n      <td>26.547656</td>\n      <td>31.850817</td>\n      <td>36.871745</td>\n    </tr>\n  </tbody>\n</table>\n<p>110 rows × 5 columns</p>\n</div>"
     },
     "execution_count": 5,
     "metadata": {},
     "output_type": "execute_result"
    }
   ],
   "source": [
    "rpm_v_road_speed"
   ],
   "metadata": {
    "collapsed": false,
    "pycharm": {
     "name": "#%%\n"
    }
   }
  },
  {
   "cell_type": "code",
   "execution_count": 6,
   "outputs": [],
   "source": [
    "rpm_torque = pd.read_csv(\"../data/rpm_torque.csv\")"
   ],
   "metadata": {
    "collapsed": false,
    "pycharm": {
     "name": "#%%\n"
    }
   }
  },
  {
   "cell_type": "code",
   "execution_count": 7,
   "outputs": [
    {
     "data": {
      "text/plain": "       rpm  torque\n0     4100  33.187\n1     4200  33.645\n2     4300  34.556\n3     4400  37.118\n4     4500  39.497\n..     ...     ...\n105  14600  33.414\n106  14700  32.795\n107  14800  31.958\n108  14900  31.175\n109  15000  30.322\n\n[110 rows x 2 columns]",
      "text/html": "<div>\n<style scoped>\n    .dataframe tbody tr th:only-of-type {\n        vertical-align: middle;\n    }\n\n    .dataframe tbody tr th {\n        vertical-align: top;\n    }\n\n    .dataframe thead th {\n        text-align: right;\n    }\n</style>\n<table border=\"1\" class=\"dataframe\">\n  <thead>\n    <tr style=\"text-align: right;\">\n      <th></th>\n      <th>rpm</th>\n      <th>torque</th>\n    </tr>\n  </thead>\n  <tbody>\n    <tr>\n      <th>0</th>\n      <td>4100</td>\n      <td>33.187</td>\n    </tr>\n    <tr>\n      <th>1</th>\n      <td>4200</td>\n      <td>33.645</td>\n    </tr>\n    <tr>\n      <th>2</th>\n      <td>4300</td>\n      <td>34.556</td>\n    </tr>\n    <tr>\n      <th>3</th>\n      <td>4400</td>\n      <td>37.118</td>\n    </tr>\n    <tr>\n      <th>4</th>\n      <td>4500</td>\n      <td>39.497</td>\n    </tr>\n    <tr>\n      <th>...</th>\n      <td>...</td>\n      <td>...</td>\n    </tr>\n    <tr>\n      <th>105</th>\n      <td>14600</td>\n      <td>33.414</td>\n    </tr>\n    <tr>\n      <th>106</th>\n      <td>14700</td>\n      <td>32.795</td>\n    </tr>\n    <tr>\n      <th>107</th>\n      <td>14800</td>\n      <td>31.958</td>\n    </tr>\n    <tr>\n      <th>108</th>\n      <td>14900</td>\n      <td>31.175</td>\n    </tr>\n    <tr>\n      <th>109</th>\n      <td>15000</td>\n      <td>30.322</td>\n    </tr>\n  </tbody>\n</table>\n<p>110 rows × 2 columns</p>\n</div>"
     },
     "execution_count": 7,
     "metadata": {},
     "output_type": "execute_result"
    }
   ],
   "source": [
    "rpm_torque"
   ],
   "metadata": {
    "collapsed": false,
    "pycharm": {
     "name": "#%%\n"
    }
   }
  },
  {
   "cell_type": "code",
   "execution_count": 8,
   "outputs": [],
   "source": [
    "def find_torque_given_velocity(velocity: float, gear: str = \"1st\", wheel_torque=wheel_torque, rpm_v_road_speed=rpm_v_road_speed, rpm_torque=rpm_torque):\n",
    "    rpm = 0\n",
    "    for _, row in rpm_v_road_speed.iterrows():\n",
    "        if row[gear] < velocity:\n",
    "            rpm = row[\"RPM\"]\n",
    "        else:\n",
    "            break\n",
    "\n",
    "    engine_torque = rpm_torque.loc[rpm_torque.rpm == rpm, 'torque'].reset_index(drop=True)[0]\n",
    "\n",
    "    torque = 0\n",
    "    for _, row in wheel_torque.iterrows():\n",
    "        if row[\"T\"] < engine_torque:\n",
    "            torque = row[gear]\n",
    "        else:\n",
    "            break\n",
    "\n",
    "    return torque"
   ],
   "metadata": {
    "collapsed": false,
    "pycharm": {
     "name": "#%%\n"
    }
   }
  },
  {
   "cell_type": "markdown",
   "source": [
    "USAGE\n",
    "- first input is a speed in m/s\n",
    "- second input is the gear as a string WITH the letters after it"
   ],
   "metadata": {
    "collapsed": false,
    "pycharm": {
     "name": "#%% md\n"
    }
   }
  },
  {
   "cell_type": "code",
   "execution_count": 16,
   "outputs": [
    {
     "data": {
      "text/plain": "663.9439543"
     },
     "execution_count": 16,
     "metadata": {},
     "output_type": "execute_result"
    }
   ],
   "source": [
    "find_torque_given_velocity(9, '1st')"
   ],
   "metadata": {
    "collapsed": false,
    "pycharm": {
     "name": "#%%\n"
    }
   }
  },
  {
   "cell_type": "code",
   "execution_count": null,
   "outputs": [],
   "source": [],
   "metadata": {
    "collapsed": false,
    "pycharm": {
     "name": "#%%\n"
    }
   }
  }
 ],
 "metadata": {
  "kernelspec": {
   "display_name": "Python 3",
   "language": "python",
   "name": "python3"
  },
  "language_info": {
   "codemirror_mode": {
    "name": "ipython",
    "version": 2
   },
   "file_extension": ".py",
   "mimetype": "text/x-python",
   "name": "python",
   "nbconvert_exporter": "python",
   "pygments_lexer": "ipython2",
   "version": "2.7.6"
  }
 },
 "nbformat": 4,
 "nbformat_minor": 0
}