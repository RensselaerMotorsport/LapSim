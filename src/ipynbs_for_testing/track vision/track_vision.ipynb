{
 "cells": [
  {
   "cell_type": "code",
   "execution_count": 3,
   "metadata": {},
   "outputs": [
    {
     "name": "stdout",
     "output_type": "stream",
     "text": [
      "Number of contours found on June track => 31\n",
      "Number of contours found on May track => 341\n"
     ]
    },
    {
     "data": {
      "text/plain": [
       "-1"
      ]
     },
     "execution_count": 3,
     "metadata": {},
     "output_type": "execute_result"
    }
   ],
   "source": [
    "import cv2\n",
    "import numpy as np\n",
    "\n",
    "'''June Track, red mask and binary thresholding'''\n",
    "\n",
    "img = cv2.imread('June_final.jpg', cv2.IMREAD_COLOR)\n",
    "img_hsv = cv2.cvtColor(img, cv2.COLOR_BGR2HSV)\n",
    "lower_red = np.array([0, 50, 50])\n",
    "upper_red = np.array([10, 255, 255])\n",
    "mask1 = cv2.inRange(img_hsv, lower_red, upper_red)\n",
    "lower_red = np.array([170, 50, 50])\n",
    "upper_red = np.array([180, 255, 255])\n",
    "mask2 = cv2.inRange(img_hsv, lower_red, upper_red)\n",
    "\n",
    "mask = mask1 + mask2\n",
    "img_hsv[np.where(mask == 0)] = 0\n",
    "\n",
    "ret, thresh = cv2.threshold(img_hsv, 0, 200, cv2.THRESH_BINARY)\n",
    "grayscale = cv2.cvtColor(thresh, cv2.COLOR_BGR2GRAY)\n",
    "contours, heirarchy = cv2.findContours(grayscale, cv2.RETR_TREE, cv2.CHAIN_APPROX_NONE)\n",
    "cv2.drawContours(thresh, contours, -1, (255, 0, 0), 1, cv2.LINE_AA)\n",
    "print('Number of contours found on June track => '+str(len(contours)))\n",
    "june_cords = contours\n",
    "cv2.imshow('June', thresh)\n",
    "cv2.waitKey(0)\n",
    "\n",
    "'''May Track, attempted red mask but need to dilate'''\n",
    "img2 = cv2.imread('may_end.jpg', cv2.IMREAD_COLOR)\n",
    "img2_hsv = cv2.cvtColor(img2, cv2.COLOR_BGR2HSV)\n",
    "lower_red = np.array([0, 50, 50])\n",
    "upper_red = np.array([10, 255, 255])\n",
    "mask1 = cv2.inRange(img2_hsv, lower_red, upper_red)\n",
    "lower_red = np.array([170, 50, 50])\n",
    "upper_red = np.array([180, 255, 255])\n",
    "mask2 = cv2.inRange(img2_hsv, lower_red, upper_red)\n",
    "\n",
    "mask = mask1 + mask2\n",
    "img2_hsv[np.where(mask == 0)] = 0\n",
    "\n",
    "ret, thresh = cv2.threshold(img2_hsv, 0, 200, cv2.THRESH_BINARY)\n",
    "grayscale = cv2.cvtColor(thresh, cv2.COLOR_BGR2GRAY)\n",
    "contours, heirarchy = cv2.findContours(grayscale, cv2.RETR_TREE, cv2.CHAIN_APPROX_NONE)\n",
    "cv2.drawContours(thresh, contours, -1, (255, 0, 0), 1, cv2.LINE_AA)\n",
    "print('Number of contours found on May track => '+str(len(contours)))\n",
    "may_cords = contours\n",
    "cv2.imshow('May', thresh)\n",
    "cv2.waitKey(0)"
   ]
  }
 ],
 "metadata": {
  "kernelspec": {
   "display_name": "Python 3.9.12 64-bit ('miniconda3')",
   "language": "python",
   "name": "python3"
  },
  "language_info": {
   "codemirror_mode": {
    "name": "ipython",
    "version": 3
   },
   "file_extension": ".py",
   "mimetype": "text/x-python",
   "name": "python",
   "nbconvert_exporter": "python",
   "pygments_lexer": "ipython3",
   "version": "3.9.12"
  },
  "orig_nbformat": 4,
  "vscode": {
   "interpreter": {
    "hash": "4c61e839886e4608a8f3141fb4c11dabbdfae06129296441d5896a6d2d102acc"
   }
  }
 },
 "nbformat": 4,
 "nbformat_minor": 2
}
