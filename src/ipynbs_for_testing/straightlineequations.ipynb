{
 "cells": [
  {
   "cell_type": "code",
   "execution_count": 1,
   "metadata": {
    "collapsed": false,
    "pycharm": {
     "name": "#%%\n"
    }
   },
   "outputs": [],
   "source": [
    "import math\n",
    "import json"
   ]
  },
  {
   "cell_type": "code",
   "execution_count": 2,
   "metadata": {
    "collapsed": false,
    "pycharm": {
     "name": "#%%\n"
    }
   },
   "outputs": [],
   "source": [
    "class Car:\n",
    "    def __init__(self, car_file):\n",
    "        with open(car_file) as f:\n",
    "            self.attrs = json.load(f)"
   ]
  },
  {
   "cell_type": "code",
   "execution_count": 3,
   "metadata": {
    "collapsed": false,
    "pycharm": {
     "name": "#%%\n"
    }
   },
   "outputs": [],
   "source": [
    "car = Car(\"../data/rm25.json\")"
   ]
  },
  {
   "cell_type": "markdown",
   "metadata": {
    "collapsed": false,
    "pycharm": {
     "name": "#%% md\n"
    }
   },
   "source": [
    "Demonstration of use:\n",
    "- the .attrs variable allows you to access all variables within the car object\n",
    "- see the actual json file for the specific naming conventions\n",
    "- index as you would a dictionary"
   ]
  },
  {
   "cell_type": "code",
   "execution_count": 4,
   "metadata": {
    "collapsed": false,
    "pycharm": {
     "name": "#%%\n"
    }
   },
   "outputs": [
    {
     "data": {
      "text/plain": [
       "{'mass_car': 195,\n",
       " 'mass_driver': 100,\n",
       " 'proportion_front': 0.47,\n",
       " 'front_track_width': 1.2319,\n",
       " 'rear_track_width': 1.19888,\n",
       " 'wheelbase': 1.5367,\n",
       " 'CG_height': 0.332486,\n",
       " 'yaw_inertia': 100,\n",
       " 'CoF': 1.6,\n",
       " 'load_sensitivity': 0.0004077471967,\n",
       " 'Cd': 1.41,\n",
       " 'Cl': 2.77,\n",
       " 'A': 1,\n",
       " 'rho': 1.162,\n",
       " 'front_downforce': 0.475,\n",
       " 'cp_height': 0,\n",
       " 'brake_bias': 0.7,\n",
       " 'primary_drive': 2.111111111111111,\n",
       " 'engine_sprocket_teeth': 13,\n",
       " 'diff_sprocket_teeth': 37,\n",
       " 'tire_radius': 0.2032,\n",
       " 'gear_ratios': [2.75, 2, 1.667, 1.44]}"
      ]
     },
     "execution_count": 4,
     "metadata": {},
     "output_type": "execute_result"
    }
   ],
   "source": [
    "car.attrs"
   ]
  },
  {
   "cell_type": "code",
   "execution_count": 8,
   "metadata": {
    "collapsed": false,
    "pycharm": {
     "name": "#%%\n"
    }
   },
   "outputs": [
    {
     "data": {
      "text/plain": [
       "1.41"
      ]
     },
     "execution_count": 8,
     "metadata": {},
     "output_type": "execute_result"
    }
   ],
   "source": [
    "car.attrs['Cd']"
   ]
  },
  {
   "cell_type": "code",
   "execution_count": 17,
   "metadata": {
    "collapsed": false,
    "pycharm": {
     "name": "#%%\n"
    }
   },
   "outputs": [],
   "source": [
    "def calculate_velocity_new(engine_force, friction_force, drag_force, car_mass, driver_mass, step = 1, initial_velocity = 0.001):\n",
    "    return math.sqrt((initial_velocity**2) + 2 * step * ((engine_force - drag_force) / (car_mass + driver_mass)))\n",
    "\n",
    "\n",
    "def calculate_drag_force(coeff_drag, air_density, frontal_area, initial_velocity = 0.001):\n",
    "    return coeff_drag * 0.5 * air_density * (initial_velocity ** 2) * frontal_area\n",
    "\n",
    "\n",
    "def calculate_engine_force(wheel_torque, trans_efficiency, tire_radius):\n",
    "    return (wheel_torque * trans_efficiency) / tire_radius\n",
    "\n",
    "\n",
    "def calculate_friction_force(coeff_friction, car_mass, driver_mass, coeff_lift, air_density, frontal_area, initial_velocity = 0):\n",
    "    return coeff_friction * ((car_mass + driver_mass) * 9.81) + (coeff_lift * 0.5 * air_density * (initial_velocity**2) * frontal_area)"
   ]
  },
  {
   "cell_type": "code",
   "execution_count": 18,
   "metadata": {
    "collapsed": false,
    "pycharm": {
     "name": "#%%\n"
    }
   },
   "outputs": [],
   "source": [
    "wheel_torque = 500\n",
    "trans_efficiency = 0.95"
   ]
  },
  {
   "cell_type": "code",
   "execution_count": 19,
   "metadata": {
    "collapsed": false,
    "pycharm": {
     "name": "#%%\n"
    }
   },
   "outputs": [],
   "source": [
    "engine_force = calculate_engine_force(wheel_torque, trans_efficiency, car.attrs['tire_radius'])\n",
    "drag_force = calculate_drag_force(car.attrs['Cd'], car.attrs['rho'], car.attrs['A'])\n",
    "friction_force = calculate_friction_force(car.attrs['CoF'], car.attrs['mass_car'], car.attrs['mass_driver'], car.attrs['Cl'], car.attrs['rho'], car.attrs['A'])\n",
    "velocity = calculate_velocity_new(engine_force, friction_force,  drag_force, car.attrs['mass_car'], car.attrs['mass_driver'])"
   ]
  },
  {
   "cell_type": "code",
   "execution_count": 20,
   "metadata": {
    "collapsed": false,
    "pycharm": {
     "name": "#%%\n"
    }
   },
   "outputs": [
    {
     "name": "stdout",
     "output_type": "stream",
     "text": [
      "Engine force is: 2337.598\n",
      "Friction force is: 4630.320\n",
      "Drag force is: 0.000000819210\n",
      "Velocity is: 3.981\n"
     ]
    }
   ],
   "source": [
    "print(\"Engine force is: {0:.3f}\".format(engine_force))\n",
    "print(\"Friction force is: {0:.3f}\".format(friction_force))\n",
    "print(\"Drag force is: {0:.12f}\".format(drag_force))\n",
    "print(\"Velocity is: {0:.3f}\".format(velocity))"
   ]
  }
 ],
 "metadata": {
  "kernelspec": {
   "display_name": "Python 3.9.7 ('base')",
   "language": "python",
   "name": "python3"
  },
  "language_info": {
   "codemirror_mode": {
    "name": "ipython",
    "version": 3
   },
   "file_extension": ".py",
   "mimetype": "text/x-python",
   "name": "python",
   "nbconvert_exporter": "python",
   "pygments_lexer": "ipython3",
   "version": "3.9.7"
  },
  "orig_nbformat": 4,
  "vscode": {
   "interpreter": {
    "hash": "ad2bdc8ecc057115af97d19610ffacc2b4e99fae6737bb82f5d7fb13d2f2c186"
   }
  }
 },
 "nbformat": 4,
 "nbformat_minor": 2
}
