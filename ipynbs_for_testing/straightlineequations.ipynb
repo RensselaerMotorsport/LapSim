{
 "cells": [
  {
   "cell_type": "code",
   "execution_count": null,
   "outputs": [],
   "source": [
    "### testing physics equations in straight line, not done yet\n",
    "import math as m\n",
    "\n",
    "\n",
    "cmass = float(input(\"Enter the car mass (kg): \"))\n",
    "dmass = float(input(\"Enter the driver mass (kg): \"))\n",
    "gearchgtime = float(input(\"Enter the gear change time (s): \"))\n",
    "frontarea = float(input(\"Enter the frontal area (m^2): \"))\n",
    "Cd = float(input(\"Enter the drag coefficient: \"))\n",
    "Cl = float(input(\"Enter the lift coefficient: \"))\n",
    "Cf = float(input(\"Enter the friction coefficient: \"))\n",
    "teff = float(input(\"Enter transmission efficiency: \"))\n",
    "airdens = float(input(\"Enter the air density (kg/m^2): \"))\n",
    "gearratio = float(input(\"Enter the gearing ratio (m): \"))\n",
    "weffrad = float(input(\"Enter effective wheel radius (m): \"))\n",
    "entryspd = float(input(\"Enter the entry speed (m/s): \"))\n",
    "lengthstp = float(input(\"Enter the length step (m): \"))\n",
    "etorque = float(input(\"Enter the engine torque (N/m): \"))\n",
    "wtorque = float(input(\"Enter the wheel torque (N/m): \"))\n",
    "Eforceinit = 0\n",
    "Fforceinit = 0\n",
    "Dforceinit = 0\n",
    "Velocityinit = (0.001)\n",
    "Accelinit = 0\n",
    "\n",
    "\n",
    "def velocitynew(velocity, Eforce, Fforce, Dforce, cmass, dmass):\n",
    "    velocity = m.sqrt((velocity**2) + 2 * lengthstp * ((Eforce + Fforce - Dforce)/(cmass+dmass)))\n",
    "    return velocity\n",
    "def dragforce(Cd, velocity, airdens, frontarea):\n",
    "    Dforce = (Cd * 0.5 * airdens * (velocity**2) * frontarea)\n",
    "    return Dforce\n",
    "def engineforce(wtorque, teff, weffrad):\n",
    "    Eforce = (wtorque * teff) / weffrad\n",
    "    return Eforce\n",
    "def frictionforce(Cf, cmass, dmass, Cl, airdens, velocity, frontarea):\n",
    "    Fforce = Cf * ((cmass + dmass) * 9.81) + (Cl * 0.5 * airdens * (velocity**2) * frontarea)\n",
    "    return Fforce\n",
    "Eforce = engineforce(wtorque, teff, weffrad)\n",
    "Dforce = dragforce(Cd, Velocityinit, airdens, frontarea)\n",
    "Fforce = frictionforce(Cf, cmass, dmass, Cl, airdens, Velocityinit, frontarea)\n",
    "velocity = velocitynew(Velocityinit, Eforce, Fforce,  Dforce, cmass, dmass)\n",
    "\n",
    "\n",
    "\n",
    "print(\"\\nEngine force is: {0:.3f}\".format(Eforce))\n",
    "print(\"Friction force is: {0:.3f}\".format(Fforce))\n",
    "print(\"Drag force is: {0:.3f}\".format(Dforce))\n",
    "print(\"Velocity is: {0:.3f}\".format(velocity))"
   ],
   "metadata": {
    "collapsed": false,
    "pycharm": {
     "name": "#%%\n"
    }
   }
  }
 ],
 "metadata": {
  "kernelspec": {
   "display_name": "Python 3.9.5 64-bit",
   "language": "python",
   "name": "python3"
  },
  "language_info": {
   "codemirror_mode": {
    "name": "ipython",
    "version": 3
   },
   "file_extension": ".py",
   "mimetype": "text/x-python",
   "name": "python",
   "nbconvert_exporter": "python",
   "pygments_lexer": "ipython3",
   "version": "3.9.5"
  },
  "orig_nbformat": 4,
  "vscode": {
   "interpreter": {
    "hash": "495cd926f662b7c13aa3690f204bc8fc5ac21c876cf1cd9c3ff95852871fee3a"
   }
  }
 },
 "nbformat": 4,
 "nbformat_minor": 2
}