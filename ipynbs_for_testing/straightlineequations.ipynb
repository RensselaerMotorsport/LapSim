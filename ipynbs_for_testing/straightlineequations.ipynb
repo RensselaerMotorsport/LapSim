{
 "cells": [
  {
   "cell_type": "code",
   "execution_count": null,
   "metadata": {},
   "outputs": [],
   "source": [
    "import math as m\n",
    "#accepts user inputs\n",
    "cmass = float(input(\"Enter the car mass (kg): \"))\n",
    "dmass = float(input(\"Enter the driver mass (kg): \"))\n",
    "gearchgtime = float(input(\"Enter the gear change time (s): \"))\n",
    "frontarea = float(input(\"Enter the frontal area (m^2): \"))\n",
    "Cd = float(input(\"Enter the drag coefficient: \"))\n",
    "Cl = float(input(\"Enter the lift coefficient: \"))\n",
    "Cf = float(input(\"Enter the friction coefficient: \"))\n",
    "teff = float(input(\"Enter transmission efficiency: \"))\n",
    "airdens = float(input(\"Enter the air density (kg/m^2): \"))\n",
    "gearratio = float(input(\"Enter the gearing ratio (m): \"))\n",
    "weffrad = float(input(\"Enter effective wheel radius (m): \"))\n",
    "entryspd = float(input(\"Enter the entry speed (m/s): \"))\n",
    "lengthstp = float(input(\"Enter the length step (m): \"))\n",
    "etorque = float(input(\"Enter the engine torque (N/m): \"))\n",
    "wtorque = float(input(\"Enter the wheel torque (N/m): \"))\n",
    "velocity = (1*(10**-10))\n",
    "\n",
    "#calculates engine force and prints it\n",
    "def engineforce(wtorque, teff, weffrad):\n",
    "    Eforce = (wtorque * teff) / weffrad\n",
    "    return Eforce\n",
    "Eforce = engineforce(wtorque,teff,weffrad)\n",
    "print(\"\\nEngine force is: {0:.2f}\".format(Eforce))\n",
    "\n",
    "#calculates drag force and prints it\n",
    "def dragforce(Cd, velocity, airdens, frontarea):\n",
    "    Dforce = (Cd * 0.5 * airdens * (velocity**2) * frontarea)\n",
    "    return Dforce\n",
    "Dforce = dragforce(Cd, velocity, airdens, frontarea)\n",
    "print(\"Drag force is: {0:.2f}\".format(Dforce))\n",
    "\n",
    "def velocity(velocity, Eforce, Dforce, cmass, dmass):\n",
    "    velocitynew = m.sqrt((velocity**2) + (2*0.1) * (Eforce - Dforce) / (cmass + dmass))\n",
    "    velocity = velocitynew\n",
    "    return velocity\n",
    "\n",
    "#calculates friction force and prints it\n",
    "def frictionforce(Cf, cmass, dmass, Cl, airdens, velocity, frontarea):\n",
    "    Fforce = Cf * ((cmass + dmass) * 9.81) + (Cl * 0.5 * airdens * (velocity**2) * frontarea)\n",
    "    return Fforce\n",
    "print(\"Friction force is: {0:.2f}\".format(frictionforce(Cf, cmass, dmass, Cl, airdens, velocity, frontarea)))"
   ]
  }
 ],
 "metadata": {
  "kernelspec": {
   "display_name": "Python 3.9.5 64-bit",
   "language": "python",
   "name": "python3"
  },
  "language_info": {
   "name": "python",
   "version": "3.9.5"
  },
  "orig_nbformat": 4,
  "vscode": {
   "interpreter": {
    "hash": "495cd926f662b7c13aa3690f204bc8fc5ac21c876cf1cd9c3ff95852871fee3a"
   }
  }
 },
 "nbformat": 4,
 "nbformat_minor": 2
}
